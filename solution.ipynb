{
 "cells": [
  {
   "cell_type": "code",
   "execution_count": 1,
   "metadata": {
    "ExecuteTime": {
     "end_time": "2021-04-28T02:11:12.843453Z",
     "start_time": "2021-04-28T02:11:12.833559Z"
    }
   },
   "outputs": [
    {
     "data": {
      "application/javascript": [
       "// 必须手动跑\n",
       "var kernel = IPython.notebook.kernel;\n",
       "var _the_name = window.document.getElementById(\"notebook_name\").innerHTML;\n",
       "kernel.execute(`notebook_id = '${_the_name}'`);\n"
      ],
      "text/plain": [
       "<IPython.core.display.Javascript object>"
      ]
     },
     "metadata": {},
     "output_type": "display_data"
    }
   ],
   "source": [
    "%%javascript\n",
    "// 必须手动跑\n",
    "var kernel = IPython.notebook.kernel;\n",
    "var _the_name = window.document.getElementById(\"notebook_name\").innerHTML;\n",
    "kernel.execute(`notebook_id = '${_the_name}'`);"
   ]
  },
  {
   "cell_type": "code",
   "execution_count": 2,
   "metadata": {
    "ExecuteTime": {
     "end_time": "2021-04-28T02:11:13.048789Z",
     "start_time": "2021-04-28T02:11:13.044879Z"
    }
   },
   "outputs": [
    {
     "data": {
      "text/plain": [
       "'i-want-to-be-top-5-v5_last_21_days'"
      ]
     },
     "execution_count": 2,
     "metadata": {},
     "output_type": "execute_result"
    }
   ],
   "source": [
    "notebook_id"
   ]
  },
  {
   "cell_type": "code",
   "execution_count": 3,
   "metadata": {
    "ExecuteTime": {
     "end_time": "2021-04-28T02:11:14.860858Z",
     "start_time": "2021-04-28T02:11:13.455183Z"
    }
   },
   "outputs": [],
   "source": [
    "import pandas as pd\n",
    "import numpy as np\n",
    "import seaborn as sns\n",
    "import matplotlib as plt\n",
    "import sklearn\n",
    "import xgboost\n",
    "import tsfresh\n",
    "import imblearn\n",
    "import gc\n",
    "import os\n",
    "from tqdm.notebook import trange, tqdm\n",
    "import pickle\n",
    "import threading\n",
    "from threading import Thread\n",
    "import xgboost as xgb\n",
    "\n",
    "from multiprocessing import Pool, cpu_count"
   ]
  },
  {
   "cell_type": "markdown",
   "metadata": {},
   "source": [
    "# 超参数"
   ]
  },
  {
   "cell_type": "code",
   "execution_count": 4,
   "metadata": {
    "ExecuteTime": {
     "end_time": "2021-04-28T02:11:14.869109Z",
     "start_time": "2021-04-28T02:11:14.863143Z"
    }
   },
   "outputs": [
    {
     "data": {
      "text/plain": [
       "'eyJncmFudWxhcml0eSI6IDEwLCAiZGVmYXVsdF9mY19wYXJhbWV0ZXJzIjogeyJzdW1fdmFsdWVzIjogbnVsbCwgIm1lZGlhbiI6IG51bGwsICJtZWFuIjogbnVsbCwgImxlbmd0aCI6IG51bGwsICJzdGFuZGFyZF9kZXZpYXRpb24iOiBudWxsLCAidmFyaWFuY2UiOiBudWxsLCAibWF4aW11bSI6IG51bGwsICJtaW5pbXVtIjogbnVsbCwgImFic19lbmVyZ3kiOiBudWxsLCAiYWJzb2x1dGVfc3VtX29mX2NoYW5nZXMiOiBudWxsLCAiY2lkX2NlIjogW3sibm9ybWFsaXplIjogZmFsc2V9XX0sICJmaWxsbmEiOiAwLCAicG9zX3RocmVzaG9sZCI6IDYwLCAia2ZvbGQiOiAyfQ=='"
      ]
     },
     "execution_count": 4,
     "metadata": {},
     "output_type": "execute_result"
    }
   ],
   "source": [
    "hyper_parameters = {\n",
    "    ## 数据处理\n",
    "    \"granularity\": 10,  # 多少的interval 5分钟试一试?\n",
    "\n",
    "    \"default_fc_parameters\": { # tsfresh的特征\n",
    "        'sum_values': None,\n",
    "        'median': None,\n",
    "        'mean': None,\n",
    "        'length': None,\n",
    "        'standard_deviation': None,\n",
    "        'variance': None,\n",
    "        'maximum': None,\n",
    "        'minimum': None,\n",
    "        'abs_energy': None,\n",
    "        'absolute_sum_of_changes': None,\n",
    "        'cid_ce': [{\"normalize\": False}],\n",
    "    },\n",
    "    \"fillna\": 0,\n",
    "    ## 训练相关\n",
    "    \"pos_threshold\": 60, # 多少时间为label=1\n",
    "    \"kfold\": 2\n",
    "\n",
    "}\n",
    "\n",
    "import json\n",
    "import base64\n",
    "\n",
    "exp_id = base64.b64encode(bytes(json.dumps(hyper_parameters), 'utf-8')).decode()\n",
    "exp_id"
   ]
  },
  {
   "cell_type": "markdown",
   "metadata": {},
   "source": [
    "# 数据前处理"
   ]
  },
  {
   "cell_type": "markdown",
   "metadata": {},
   "source": [
    "## 函数库"
   ]
  },
  {
   "cell_type": "code",
   "execution_count": 5,
   "metadata": {
    "ExecuteTime": {
     "end_time": "2021-04-28T02:11:20.772456Z",
     "start_time": "2021-04-28T02:11:20.763924Z"
    }
   },
   "outputs": [],
   "source": [
    "# 从EDA中获取, 可以大大减少数据的数量\n",
    "garbage_serial_number_list = np.array([\n",
    "       'server_36955', 'server_24596', 'server_45057', 'server_24620',\n",
    "       'server_39690', 'server_58416', 'server_18468', 'server_49273',\n",
    "       'server_24817', 'server_46547', 'server_38212', 'server_25942',\n",
    "       'server_38', 'server_24591', 'server_52634', 'server_55846',\n",
    "       'server_43261', 'server_37735', 'server_25474', 'server_30664',\n",
    "       'server_38500', 'server_18444', 'server_56581', 'server_2044',\n",
    "       'server_38321', 'server_43081', 'server_24632', 'server_59467',\n",
    "       'server_18432', 'server_30928', 'server_24947', 'server_14165',\n",
    "       'server_35047', 'server_34', 'server_37732', 'server_33877',\n",
    "       'server_45855', 'server_33638', 'server_53677', 'server_13156',\n",
    "       'server_24756', 'server_55924', 'server_27360', 'server_43106',\n",
    "       'server_3367', 'server_39373', 'server_53122', 'server_2838',\n",
    "       'server_8626', 'server_49263', 'server_57237', 'server_31334',\n",
    "       'server_27461', 'server_754', 'server_51237', 'server_2213',\n",
    "       'server_45174', 'server_21118', 'server_39072', 'server_12467',\n",
    "       'server_43531', 'server_3041', 'server_50112', 'server_34181',\n",
    "       'server_33932', 'server_27534', 'server_1', 'server_32717',\n",
    "       'server_25928', 'server_57710', 'server_37152', 'server_55948',\n",
    "       'server_18486', 'server_12922', 'server_12791', 'server_6677',\n",
    "       'server_3944', 'server_1279', 'server_47280', 'server_52505',\n",
    "       'server_15269', 'server_51943', 'server_10292', 'server_37676',\n",
    "       'server_15412', 'server_55422', 'server_37832', 'server_36941',\n",
    "       'server_1759', 'server_15730', 'server_55442', 'server_6277',\n",
    "       'server_25913', 'server_12428', 'server_34714', 'server_37337',\n",
    "       'server_1284', 'server_18455', 'server_43112', 'server_6281',\n",
    "       'server_43100', 'server_23', 'server_37552', 'server_43671',\n",
    "       'server_36947', 'server_50455', 'server_18469', 'server_14947',\n",
    "       'server_43096', 'server_13893', 'server_55453', 'server_57970',\n",
    "       'server_24931', 'server_37017', 'server_55444', 'server_58707',\n",
    "       'server_6586', 'server_55897', 'server_50631', 'server_56576',\n",
    "       'server_49519', 'server_55404', 'server_19921', 'server_57464',\n",
    "       'server_180', 'server_30765', 'server_31043'\n",
    "], dtype=object)\n",
    "\n",
    "\n",
    "enum_mca_id = [\n",
    "    'Z',\n",
    "    'AP',\n",
    "    'AF',\n",
    "    'E',\n",
    "    'CD',\n",
    "    'BB',\n",
    "    'C',\n",
    "    'CC',\n",
    "    'F',\n",
    "    'G',\n",
    "    'EE',\n",
    "    'AA',\n",
    "    'AE',\n",
    "    'BC',\n",
    "    'AZ',\n",
    "    'DE',\n",
    "    'FF'\n",
    "]\n",
    "\n"
   ]
  },
  {
   "cell_type": "markdown",
   "metadata": {},
   "source": [
    "### 预处理的函数"
   ]
  },
  {
   "cell_type": "code",
   "execution_count": 6,
   "metadata": {
    "ExecuteTime": {
     "end_time": "2021-04-28T02:11:21.667500Z",
     "start_time": "2021-04-28T02:11:21.659947Z"
    }
   },
   "outputs": [],
   "source": [
    "def give_grid(df):\n",
    "    for n_grid in [10, 20, 30]:\n",
    "        df[f'row_grid_{n_grid}'] = (df['row'] // ((2**17-1) / n_grid)).astype(int)\n",
    "        df[f'col_grid_{n_grid}'] = (df['col'] // ((2**10-1) / n_grid)).astype(int)\n",
    "    return df\n",
    "\n",
    "    \n",
    "def preprocess(df):\n",
    "    df = df[~df.serial_number.isin(garbage_serial_number_list)]\n",
    "    df['dt_collect_time'] = pd.to_datetime(df['collect_time'])\n",
    "    df = df.sort_values(\"dt_collect_time\")\n",
    "\n",
    "    if 'mca_id' in df:\n",
    "        df = pd.concat(\n",
    "            [\n",
    "                df.reset_index(drop=True),\n",
    "                pd.DataFrame(\n",
    "                    data=[\n",
    "                        [1 if mca_id == v else 0 for mca_id in enum_mca_id]\n",
    "                        for v in tqdm(df['mca_id'].values, desc=\"mca_id\")\n",
    "                    ],\n",
    "                    columns=[\n",
    "                        \"mca_id_\" + v for v in enum_mca_id\n",
    "                    ]\n",
    "                ).reset_index(drop=True)\n",
    "            ],\n",
    "            axis=1\n",
    "        )\n",
    "        df = df.drop(columns=['mca_id'])\n",
    "        \n",
    "    if 'row' in df and 'col' in df:\n",
    "        # df_address_log\n",
    "        df = give_grid(df)\n",
    "    \n",
    "    return df"
   ]
  },
  {
   "cell_type": "markdown",
   "metadata": {},
   "source": [
    "### 计算标签的函数"
   ]
  },
  {
   "cell_type": "code",
   "execution_count": 7,
   "metadata": {
    "ExecuteTime": {
     "end_time": "2021-04-28T02:11:22.879868Z",
     "start_time": "2021-04-28T02:11:22.875188Z"
    }
   },
   "outputs": [],
   "source": [
    "def give_it_label(_df, df_failure):\n",
    "    merged_df = pd.merge(\n",
    "        _df, \n",
    "        df_failure[['serial_number', 'dt_failure_time']],\n",
    "        on=['serial_number'],\n",
    "        how='left'\n",
    "    )\n",
    "\n",
    "    merged_df['remain'] = 60 * 24 * 365 # 否则就取一年\n",
    "    failure_indices = merged_df[\n",
    "        ~np.isnan(merged_df.dt_failure_time)\n",
    "    ].index\n",
    "    tmp_df = merged_df.iloc[failure_indices]\n",
    "    merged_df.loc[failure_indices, 'remain'] = (\n",
    "        tmp_df['dt_failure_time'] - tmp_df['dt_collect_time']\n",
    "    ).dt.total_seconds() // 60\n",
    "\n",
    "    return merged_df.drop(columns=[\n",
    "        'collect_time', 'dt_failure_time'\n",
    "    ])"
   ]
  },
  {
   "cell_type": "markdown",
   "metadata": {},
   "source": [
    "### 特征工程的函数"
   ]
  },
  {
   "cell_type": "code",
   "execution_count": 8,
   "metadata": {
    "ExecuteTime": {
     "end_time": "2021-04-28T02:11:26.450442Z",
     "start_time": "2021-04-28T02:11:26.444871Z"
    }
   },
   "outputs": [],
   "source": [
    "def feature_transform(args):\n",
    "    \n",
    "    _df, column_name = args\n",
    "    \n",
    "    _columns = [\n",
    "        'dt_date', 'dt_hour', 'dt_minute', \n",
    "        'remain'\n",
    "    ]\n",
    "    _df_common = _df.tail(1)[_columns].reset_index().drop(\n",
    "        columns=['index']\n",
    "    )\n",
    "    _drop_columns = [\n",
    "        'granularity',\n",
    "    ]\n",
    "    \n",
    "    # 应该只有一行\n",
    "    _df_feature = tsfresh.extract_features(\n",
    "        _df.drop(columns=_columns + _drop_columns),\n",
    "        column_id=\"serial_number\", \n",
    "        default_fc_parameters=hyper_parameters[\"default_fc_parameters\"],\n",
    "        disable_progressbar=True,\n",
    "        n_jobs=0\n",
    "    ).reset_index().rename(columns={'index': 'serial_number'})\n",
    "    \n",
    "    if column_name is None:\n",
    "        return pd.concat([_df_common, _df_feature], axis=1)\n",
    "    # 只有一行\n",
    "    return pd.concat([_df_common, _df_feature], axis=1)[column_name].values[0]"
   ]
  },
  {
   "cell_type": "markdown",
   "metadata": {},
   "source": [
    "### 直接得到可训练的数据"
   ]
  },
  {
   "cell_type": "code",
   "execution_count": 9,
   "metadata": {
    "ExecuteTime": {
     "end_time": "2021-04-28T02:11:32.400639Z",
     "start_time": "2021-04-28T02:11:32.389474Z"
    }
   },
   "outputs": [],
   "source": [
    "def get_all_features(df_trainable):\n",
    "    # 确保训练时候的数据是一致的\n",
    "    return [\n",
    "        col for col in df_trainable if col not in [\n",
    "            'dt_date', 'dt_hour', 'dt_minute', 'serial_number', \n",
    "            'remain', 'granularity'\n",
    "        ]\n",
    "    ]\n",
    "\n",
    "def get_data_trainable(df_address_log, df_mce_log, df_kernel_log, df_failure):\n",
    "    \n",
    "    # 加上特征和granularity\n",
    "    df_data_table = pd.concat([df_address_log, df_mce_log, df_kernel_log])\n",
    "    df_data_table = df_data_table.sort_values(\"dt_collect_time\").reset_index(drop=True)\n",
    "    df_data_table = give_it_label(df_data_table, df_failure)\n",
    "    \n",
    "    df_data_table = df_data_table.fillna(hyper_parameters[\"fillna\"])\n",
    "    \n",
    "    df_data_table['dt_date'] = df_data_table.dt_collect_time.dt.date\n",
    "    df_data_table['dt_hour'] = df_data_table.dt_collect_time.dt.hour\n",
    "    df_data_table['dt_minute'] = df_data_table.dt_collect_time.dt.minute\n",
    "    df_data_table['granularity'] = (df_data_table['dt_date'].astype(str) + \n",
    "        \"_\" + df_data_table['dt_hour'].astype(str) + \n",
    "        \"_\" + (df_data_table['dt_minute'] // hyper_parameters['granularity']).astype(str))\n",
    "    \n",
    "    # 得到可以训练的数据\n",
    "    df_data_table_trainable = df_data_table.drop(columns=[\n",
    "        'dt_collect_time',\n",
    "    ])\n",
    "\n",
    "    exp_df = [v[1] for v in df_data_table_trainable.head(1).groupby([\n",
    "        'serial_number', 'granularity'\n",
    "    ], sort=False)][0]\n",
    "    feature_columns = feature_transform((exp_df, None)).columns\n",
    "\n",
    "    df_grouped = df_data_table_trainable.groupby([\n",
    "        'serial_number', 'granularity'\n",
    "    ], sort=False)\n",
    "\n",
    "\n",
    "    with Pool(88) as p:\n",
    "        df_trainable_list = list(tqdm(\n",
    "            p.imap(\n",
    "                feature_transform, \n",
    "                [(group, feature_columns) for name, group in df_grouped], \n",
    "                chunksize=10\n",
    "            ), \n",
    "            total=len(df_grouped)\n",
    "        ))\n",
    "        \n",
    "    df_trainable = pd.DataFrame(data=df_trainable_list, columns=feature_columns)\n",
    "    \n",
    "    return df_trainable"
   ]
  },
  {
   "cell_type": "code",
   "execution_count": 27,
   "metadata": {
    "ExecuteTime": {
     "end_time": "2021-04-28T02:24:47.141888Z",
     "start_time": "2021-04-28T02:24:29.766665Z"
    }
   },
   "outputs": [],
   "source": [
    "df_address_log_fuck = pd.read_csv(\"./tcdata/memory_sample_address_log_round1_a_train.csv\")\n"
   ]
  },
  {
   "cell_type": "code",
   "execution_count": 28,
   "metadata": {
    "ExecuteTime": {
     "end_time": "2021-04-28T02:25:21.310817Z",
     "start_time": "2021-04-28T02:25:21.303332Z"
    }
   },
   "outputs": [
    {
     "data": {
      "text/plain": [
       "0           2019-01-01 19:50:32\n",
       "1           2019-01-01 01:31:23\n",
       "2           2019-01-01 00:18:15\n",
       "3           2019-01-01 02:21:42\n",
       "4           2019-01-01 05:09:55\n",
       "                   ...         \n",
       "23442746    2019-05-31 00:07:49\n",
       "23442747    2019-05-30 23:21:33\n",
       "23442748    2019-05-30 23:21:46\n",
       "23442749    2019-05-30 23:45:01\n",
       "23442750    2019-05-30 23:21:31\n",
       "Name: collect_time, Length: 23442751, dtype: object"
      ]
     },
     "execution_count": 28,
     "metadata": {},
     "output_type": "execute_result"
    }
   ],
   "source": [
    "df_address_log_fuck.collect_time"
   ]
  },
  {
   "cell_type": "markdown",
   "metadata": {},
   "source": [
    "## 得到可训练数据"
   ]
  },
  {
   "cell_type": "markdown",
   "metadata": {},
   "source": [
    "### 训练数据"
   ]
  },
  {
   "cell_type": "code",
   "execution_count": 10,
   "metadata": {
    "ExecuteTime": {
     "end_time": "2021-04-28T02:13:41.409242Z",
     "start_time": "2021-04-28T02:11:37.885816Z"
    }
   },
   "outputs": [
    {
     "name": "stderr",
     "output_type": "stream",
     "text": [
      "/home/tiger/anaconda3/envs/research/lib/python3.6/site-packages/ipykernel_launcher.py:10: SettingWithCopyWarning: \n",
      "A value is trying to be set on a copy of a slice from a DataFrame.\n",
      "Try using .loc[row_indexer,col_indexer] = value instead\n",
      "\n",
      "See the caveats in the documentation: https://pandas.pydata.org/pandas-docs/stable/user_guide/indexing.html#returning-a-view-versus-a-copy\n",
      "  # Remove the CWD from sys.path while we load stuff.\n"
     ]
    },
    {
     "data": {
      "application/vnd.jupyter.widget-view+json": {
       "model_id": "5a039f4199ad427ca30219f7525755d0",
       "version_major": 2,
       "version_minor": 0
      },
      "text/plain": [
       "mca_id:   0%|          | 0/7225384 [00:00<?, ?it/s]"
      ]
     },
     "metadata": {},
     "output_type": "display_data"
    }
   ],
   "source": [
    "df_address_log = pd.read_csv(\"./tcdata/memory_sample_address_log_round1_a_train.csv\")\n",
    "df_address_log = preprocess(df_address_log)\n",
    "\n",
    "df_mce_log = pd.read_csv(\"./tcdata/memory_sample_mce_log_round1_a_train.csv\")\n",
    "df_mce_log = preprocess(df_mce_log)\n",
    "\n",
    "df_kernel_log = pd.read_csv(\"./tcdata/memory_sample_kernel_log_round1_a_train.csv\")\n",
    "df_kernel_log = preprocess(df_kernel_log)\n",
    "\n",
    "df_failure = pd.read_csv(\"./tcdata/memory_sample_failure_tag_round1_a_train.csv\")\n",
    "df_failure['dt_failure_time'] = pd.to_datetime(df_failure['failure_time'])\n",
    "df_failure = df_failure.sort_values(\"dt_failure_time\")\n",
    "\n"
   ]
  },
  {
   "cell_type": "code",
   "execution_count": 12,
   "metadata": {
    "ExecuteTime": {
     "end_time": "2021-04-28T02:13:50.514849Z",
     "start_time": "2021-04-28T02:13:50.511597Z"
    }
   },
   "outputs": [],
   "source": [
    "import datetime\n",
    "sample_date = datetime.date(2019, 5, 1)"
   ]
  },
  {
   "cell_type": "code",
   "execution_count": 33,
   "metadata": {
    "ExecuteTime": {
     "end_time": "2021-04-28T02:31:31.068099Z",
     "start_time": "2021-04-28T02:31:25.072092Z"
    }
   },
   "outputs": [],
   "source": [
    "df_address_log_sample = df_address_log[\n",
    "    (df_address_log.dt_collect_time.dt.date == sample_date) &\n",
    "    (df_address_log.dt_collect_time.dt.hour == 3) &\n",
    "    (df_address_log.dt_collect_time.dt.minute < 10)\n",
    "]\n",
    "\n",
    "df_mce_log_sample = df_mce_log[\n",
    "    (df_mce_log.dt_collect_time.dt.date == sample_date) &\n",
    "    (df_mce_log.dt_collect_time.dt.hour == 3)  &\n",
    "    (df_mce_log.dt_collect_time.dt.minute < 10)\n",
    "]\n",
    "\n",
    "df_kernel_log_sample = df_kernel_log[\n",
    "    (df_kernel_log.dt_collect_time.dt.date == sample_date)&\n",
    "    (df_kernel_log.dt_collect_time.dt.hour == 3)  &\n",
    "    (df_kernel_log.dt_collect_time.dt.minute < 10)\n",
    "]"
   ]
  },
  {
   "cell_type": "code",
   "execution_count": 34,
   "metadata": {
    "ExecuteTime": {
     "end_time": "2021-04-28T02:31:31.073525Z",
     "start_time": "2021-04-28T02:31:31.069804Z"
    }
   },
   "outputs": [
    {
     "data": {
      "text/plain": [
       "1921"
      ]
     },
     "execution_count": 34,
     "metadata": {},
     "output_type": "execute_result"
    }
   ],
   "source": [
    "df_address_log_sample.shape[0] + df_mce_log_sample.shape[0] + df_kernel_log_sample.shape[0]"
   ]
  },
  {
   "cell_type": "code",
   "execution_count": 41,
   "metadata": {
    "ExecuteTime": {
     "end_time": "2021-04-28T02:35:55.955318Z",
     "start_time": "2021-04-28T02:35:55.925404Z"
    }
   },
   "outputs": [],
   "source": [
    "df_concated_sample_new = pd.concat(\n",
    "    [df_address_log_sample, \n",
    "     df_mce_log_sample,\n",
    "     df_kernel_log_sample]\n",
    ").reset_index(drop=True).sort_values(\"dt_collect_time\").fillna(0).reset_index(drop=True)\n",
    "\n",
    "\n",
    "df_concated_sample_new['dt_date'] = df_concated_sample_new.dt_collect_time.dt.date\n",
    "df_concated_sample_new['dt_hour'] = df_concated_sample_new.dt_collect_time.dt.hour\n",
    "df_concated_sample_new['dt_minute'] = df_concated_sample_new.dt_collect_time.dt.minute\n",
    "df_concated_sample_new['granularity'] = (df_concated_sample_new['dt_date'].astype(str) + \n",
    "    \"_\" + df_concated_sample_new['dt_hour'].astype(str) + \n",
    "    \"_\" + (df_concated_sample_new['dt_minute'] // hyper_parameters['granularity']).astype(str))"
   ]
  },
  {
   "cell_type": "code",
   "execution_count": 43,
   "metadata": {
    "ExecuteTime": {
     "end_time": "2021-04-28T02:40:37.318415Z",
     "start_time": "2021-04-28T02:40:37.309740Z"
    }
   },
   "outputs": [],
   "source": [
    "with open('df_2019_5_1_third_hour.pickle', 'wb') as f:\n",
    "    pickle.dump(df_concated_sample_new, f)"
   ]
  },
  {
   "cell_type": "code",
   "execution_count": null,
   "metadata": {},
   "outputs": [],
   "source": []
  },
  {
   "cell_type": "code",
   "execution_count": null,
   "metadata": {},
   "outputs": [],
   "source": []
  },
  {
   "cell_type": "code",
   "execution_count": 29,
   "metadata": {
    "ExecuteTime": {
     "end_time": "2021-04-28T02:26:07.140201Z",
     "start_time": "2021-04-28T02:26:07.026926Z"
    }
   },
   "outputs": [],
   "source": [
    "df_concated_sample_new = pd.concat(\n",
    "    [df_address_log_sample.reset_index(drop=True), \n",
    "     df_mce_log_sample.reset_index(drop=True),\n",
    "     df_kernel_log_sample.reset_index(drop=True)]\n",
    ").reset_index(drop=True).sort_values(\"dt_collect_time\").reset_index(drop=True)"
   ]
  },
  {
   "cell_type": "code",
   "execution_count": 30,
   "metadata": {
    "ExecuteTime": {
     "end_time": "2021-04-28T02:26:11.897651Z",
     "start_time": "2021-04-28T02:26:11.813544Z"
    }
   },
   "outputs": [],
   "source": [
    "df_concated_sample_old = pd.concat(\n",
    "    [df_address_log_sample.reset_index(drop=True), \n",
    "     df_mce_log_sample.reset_index(drop=True),\n",
    "     df_kernel_log_sample.reset_index(drop=True)]\n",
    ").reset_index(drop=True).sort_values([\"dt_collect_time\", \"\"]).reset_index(drop=True)"
   ]
  },
  {
   "cell_type": "code",
   "execution_count": 22,
   "metadata": {
    "ExecuteTime": {
     "end_time": "2021-04-28T02:22:34.888205Z",
     "start_time": "2021-04-28T02:22:34.813155Z"
    }
   },
   "outputs": [],
   "source": [
    "df_concated_sample_old = pd.concat(\n",
    "    [df_address_log_sample, \n",
    "     df_mce_log_sample,\n",
    "     df_kernel_log_sample]\n",
    ").sort_values(\"dt_collect_time\").reset_index(drop=True)"
   ]
  },
  {
   "cell_type": "code",
   "execution_count": 32,
   "metadata": {
    "ExecuteTime": {
     "end_time": "2021-04-28T02:27:11.279220Z",
     "start_time": "2021-04-28T02:27:10.087808Z"
    }
   },
   "outputs": [
    {
     "data": {
      "text/plain": [
       "array([[ True,  True,  True, ..., False, False, False],\n",
       "       [ True, False, False, ..., False, False, False],\n",
       "       [ True, False, False, ..., False, False, False],\n",
       "       ...,\n",
       "       [ True, False, False, ..., False, False, False],\n",
       "       [ True,  True,  True, ..., False, False, False],\n",
       "       [ True, False, False, ..., False, False, False]])"
      ]
     },
     "execution_count": 32,
     "metadata": {},
     "output_type": "execute_result"
    }
   ],
   "source": [
    "df_concated_sample_new[\n",
    "    ~df_concated_sample_new.isnull()\n",
    "].values == df_concated_sample_old[\n",
    "    ~df_concated_sample_new.isnull()\n",
    "].values"
   ]
  },
  {
   "cell_type": "code",
   "execution_count": 26,
   "metadata": {
    "ExecuteTime": {
     "end_time": "2021-04-28T02:23:13.898454Z",
     "start_time": "2021-04-28T02:23:13.845218Z"
    }
   },
   "outputs": [
    {
     "data": {
      "text/html": [
       "<div>\n",
       "<style scoped>\n",
       "    .dataframe tbody tr th:only-of-type {\n",
       "        vertical-align: middle;\n",
       "    }\n",
       "\n",
       "    .dataframe tbody tr th {\n",
       "        vertical-align: top;\n",
       "    }\n",
       "\n",
       "    .dataframe thead th {\n",
       "        text-align: right;\n",
       "    }\n",
       "</style>\n",
       "<table border=\"1\" class=\"dataframe\">\n",
       "  <thead>\n",
       "    <tr style=\"text-align: right;\">\n",
       "      <th></th>\n",
       "      <th>serial_number</th>\n",
       "      <th>memory</th>\n",
       "      <th>rankid</th>\n",
       "      <th>bankid</th>\n",
       "      <th>row</th>\n",
       "      <th>col</th>\n",
       "      <th>collect_time</th>\n",
       "      <th>manufacturer</th>\n",
       "      <th>vendor</th>\n",
       "      <th>dt_collect_time</th>\n",
       "      <th>...</th>\n",
       "      <th>3_hwerr_kp</th>\n",
       "      <th>1_hwerr_fl</th>\n",
       "      <th>3_hwerr_r</th>\n",
       "      <th>_hwerr_cd</th>\n",
       "      <th>3_sup_mce_note</th>\n",
       "      <th>3_cmci_sub</th>\n",
       "      <th>3_cmci_det</th>\n",
       "      <th>3_hwerr_pi</th>\n",
       "      <th>3_hwerr_o</th>\n",
       "      <th>3_hwerr_mce_l</th>\n",
       "    </tr>\n",
       "  </thead>\n",
       "  <tbody>\n",
       "    <tr>\n",
       "      <th>0</th>\n",
       "      <td>server_6830</td>\n",
       "      <td>4.0</td>\n",
       "      <td>0.0</td>\n",
       "      <td>4.0</td>\n",
       "      <td>73055.0</td>\n",
       "      <td>672.0</td>\n",
       "      <td>2019-05-01 00:00:03</td>\n",
       "      <td>0.0</td>\n",
       "      <td>1.0</td>\n",
       "      <td>2019-05-01 00:00:03</td>\n",
       "      <td>...</td>\n",
       "      <td>NaN</td>\n",
       "      <td>NaN</td>\n",
       "      <td>NaN</td>\n",
       "      <td>NaN</td>\n",
       "      <td>NaN</td>\n",
       "      <td>NaN</td>\n",
       "      <td>NaN</td>\n",
       "      <td>NaN</td>\n",
       "      <td>NaN</td>\n",
       "      <td>NaN</td>\n",
       "    </tr>\n",
       "    <tr>\n",
       "      <th>1</th>\n",
       "      <td>server_6830</td>\n",
       "      <td>NaN</td>\n",
       "      <td>NaN</td>\n",
       "      <td>NaN</td>\n",
       "      <td>NaN</td>\n",
       "      <td>NaN</td>\n",
       "      <td>2019-05-01 00:00:03</td>\n",
       "      <td>0.0</td>\n",
       "      <td>1.0</td>\n",
       "      <td>2019-05-01 00:00:03</td>\n",
       "      <td>...</td>\n",
       "      <td>NaN</td>\n",
       "      <td>NaN</td>\n",
       "      <td>NaN</td>\n",
       "      <td>NaN</td>\n",
       "      <td>NaN</td>\n",
       "      <td>NaN</td>\n",
       "      <td>NaN</td>\n",
       "      <td>NaN</td>\n",
       "      <td>NaN</td>\n",
       "      <td>NaN</td>\n",
       "    </tr>\n",
       "    <tr>\n",
       "      <th>2</th>\n",
       "      <td>server_28400</td>\n",
       "      <td>NaN</td>\n",
       "      <td>NaN</td>\n",
       "      <td>NaN</td>\n",
       "      <td>NaN</td>\n",
       "      <td>NaN</td>\n",
       "      <td>2019-05-01 00:00:04</td>\n",
       "      <td>1.0</td>\n",
       "      <td>2.0</td>\n",
       "      <td>2019-05-01 00:00:04</td>\n",
       "      <td>...</td>\n",
       "      <td>NaN</td>\n",
       "      <td>NaN</td>\n",
       "      <td>NaN</td>\n",
       "      <td>NaN</td>\n",
       "      <td>NaN</td>\n",
       "      <td>NaN</td>\n",
       "      <td>NaN</td>\n",
       "      <td>NaN</td>\n",
       "      <td>NaN</td>\n",
       "      <td>NaN</td>\n",
       "    </tr>\n",
       "    <tr>\n",
       "      <th>3</th>\n",
       "      <td>server_28400</td>\n",
       "      <td>NaN</td>\n",
       "      <td>NaN</td>\n",
       "      <td>NaN</td>\n",
       "      <td>NaN</td>\n",
       "      <td>NaN</td>\n",
       "      <td>2019-05-01 00:00:05</td>\n",
       "      <td>1.0</td>\n",
       "      <td>2.0</td>\n",
       "      <td>2019-05-01 00:00:05</td>\n",
       "      <td>...</td>\n",
       "      <td>NaN</td>\n",
       "      <td>NaN</td>\n",
       "      <td>NaN</td>\n",
       "      <td>NaN</td>\n",
       "      <td>NaN</td>\n",
       "      <td>NaN</td>\n",
       "      <td>NaN</td>\n",
       "      <td>NaN</td>\n",
       "      <td>NaN</td>\n",
       "      <td>NaN</td>\n",
       "    </tr>\n",
       "    <tr>\n",
       "      <th>4</th>\n",
       "      <td>server_20000</td>\n",
       "      <td>NaN</td>\n",
       "      <td>NaN</td>\n",
       "      <td>NaN</td>\n",
       "      <td>NaN</td>\n",
       "      <td>NaN</td>\n",
       "      <td>2019-05-01 00:00:17</td>\n",
       "      <td>2.0</td>\n",
       "      <td>0.0</td>\n",
       "      <td>2019-05-01 00:00:17</td>\n",
       "      <td>...</td>\n",
       "      <td>NaN</td>\n",
       "      <td>NaN</td>\n",
       "      <td>NaN</td>\n",
       "      <td>NaN</td>\n",
       "      <td>NaN</td>\n",
       "      <td>NaN</td>\n",
       "      <td>NaN</td>\n",
       "      <td>NaN</td>\n",
       "      <td>NaN</td>\n",
       "      <td>NaN</td>\n",
       "    </tr>\n",
       "    <tr>\n",
       "      <th>...</th>\n",
       "      <td>...</td>\n",
       "      <td>...</td>\n",
       "      <td>...</td>\n",
       "      <td>...</td>\n",
       "      <td>...</td>\n",
       "      <td>...</td>\n",
       "      <td>...</td>\n",
       "      <td>...</td>\n",
       "      <td>...</td>\n",
       "      <td>...</td>\n",
       "      <td>...</td>\n",
       "      <td>...</td>\n",
       "      <td>...</td>\n",
       "      <td>...</td>\n",
       "      <td>...</td>\n",
       "      <td>...</td>\n",
       "      <td>...</td>\n",
       "      <td>...</td>\n",
       "      <td>...</td>\n",
       "      <td>...</td>\n",
       "      <td>...</td>\n",
       "    </tr>\n",
       "    <tr>\n",
       "      <th>79148</th>\n",
       "      <td>server_24831</td>\n",
       "      <td>19.0</td>\n",
       "      <td>0.0</td>\n",
       "      <td>8.0</td>\n",
       "      <td>111826.0</td>\n",
       "      <td>1008.0</td>\n",
       "      <td>2019-05-01 23:59:10</td>\n",
       "      <td>0.0</td>\n",
       "      <td>0.0</td>\n",
       "      <td>2019-05-01 23:59:10</td>\n",
       "      <td>...</td>\n",
       "      <td>NaN</td>\n",
       "      <td>NaN</td>\n",
       "      <td>NaN</td>\n",
       "      <td>NaN</td>\n",
       "      <td>NaN</td>\n",
       "      <td>NaN</td>\n",
       "      <td>NaN</td>\n",
       "      <td>NaN</td>\n",
       "      <td>NaN</td>\n",
       "      <td>NaN</td>\n",
       "    </tr>\n",
       "    <tr>\n",
       "      <th>79149</th>\n",
       "      <td>server_24831</td>\n",
       "      <td>NaN</td>\n",
       "      <td>NaN</td>\n",
       "      <td>NaN</td>\n",
       "      <td>NaN</td>\n",
       "      <td>NaN</td>\n",
       "      <td>2019-05-01 23:59:10</td>\n",
       "      <td>0.0</td>\n",
       "      <td>0.0</td>\n",
       "      <td>2019-05-01 23:59:10</td>\n",
       "      <td>...</td>\n",
       "      <td>NaN</td>\n",
       "      <td>NaN</td>\n",
       "      <td>NaN</td>\n",
       "      <td>NaN</td>\n",
       "      <td>NaN</td>\n",
       "      <td>NaN</td>\n",
       "      <td>NaN</td>\n",
       "      <td>NaN</td>\n",
       "      <td>NaN</td>\n",
       "      <td>NaN</td>\n",
       "    </tr>\n",
       "    <tr>\n",
       "      <th>79150</th>\n",
       "      <td>server_24831</td>\n",
       "      <td>NaN</td>\n",
       "      <td>NaN</td>\n",
       "      <td>NaN</td>\n",
       "      <td>NaN</td>\n",
       "      <td>NaN</td>\n",
       "      <td>2019-05-01 23:59:10</td>\n",
       "      <td>0.0</td>\n",
       "      <td>0.0</td>\n",
       "      <td>2019-05-01 23:59:10</td>\n",
       "      <td>...</td>\n",
       "      <td>NaN</td>\n",
       "      <td>NaN</td>\n",
       "      <td>NaN</td>\n",
       "      <td>NaN</td>\n",
       "      <td>NaN</td>\n",
       "      <td>NaN</td>\n",
       "      <td>NaN</td>\n",
       "      <td>NaN</td>\n",
       "      <td>NaN</td>\n",
       "      <td>NaN</td>\n",
       "    </tr>\n",
       "    <tr>\n",
       "      <th>79151</th>\n",
       "      <td>server_37091</td>\n",
       "      <td>22.0</td>\n",
       "      <td>1.0</td>\n",
       "      <td>6.0</td>\n",
       "      <td>73711.0</td>\n",
       "      <td>488.0</td>\n",
       "      <td>2019-05-01 23:59:56</td>\n",
       "      <td>2.0</td>\n",
       "      <td>0.0</td>\n",
       "      <td>2019-05-01 23:59:56</td>\n",
       "      <td>...</td>\n",
       "      <td>NaN</td>\n",
       "      <td>NaN</td>\n",
       "      <td>NaN</td>\n",
       "      <td>NaN</td>\n",
       "      <td>NaN</td>\n",
       "      <td>NaN</td>\n",
       "      <td>NaN</td>\n",
       "      <td>NaN</td>\n",
       "      <td>NaN</td>\n",
       "      <td>NaN</td>\n",
       "    </tr>\n",
       "    <tr>\n",
       "      <th>79152</th>\n",
       "      <td>server_37091</td>\n",
       "      <td>NaN</td>\n",
       "      <td>NaN</td>\n",
       "      <td>NaN</td>\n",
       "      <td>NaN</td>\n",
       "      <td>NaN</td>\n",
       "      <td>2019-05-01 23:59:56</td>\n",
       "      <td>2.0</td>\n",
       "      <td>0.0</td>\n",
       "      <td>2019-05-01 23:59:56</td>\n",
       "      <td>...</td>\n",
       "      <td>NaN</td>\n",
       "      <td>NaN</td>\n",
       "      <td>NaN</td>\n",
       "      <td>NaN</td>\n",
       "      <td>NaN</td>\n",
       "      <td>NaN</td>\n",
       "      <td>NaN</td>\n",
       "      <td>NaN</td>\n",
       "      <td>NaN</td>\n",
       "      <td>NaN</td>\n",
       "    </tr>\n",
       "  </tbody>\n",
       "</table>\n",
       "<p>79153 rows × 58 columns</p>\n",
       "</div>"
      ],
      "text/plain": [
       "      serial_number  memory  rankid  bankid       row     col  \\\n",
       "0       server_6830     4.0     0.0     4.0   73055.0   672.0   \n",
       "1       server_6830     NaN     NaN     NaN       NaN     NaN   \n",
       "2      server_28400     NaN     NaN     NaN       NaN     NaN   \n",
       "3      server_28400     NaN     NaN     NaN       NaN     NaN   \n",
       "4      server_20000     NaN     NaN     NaN       NaN     NaN   \n",
       "...             ...     ...     ...     ...       ...     ...   \n",
       "79148  server_24831    19.0     0.0     8.0  111826.0  1008.0   \n",
       "79149  server_24831     NaN     NaN     NaN       NaN     NaN   \n",
       "79150  server_24831     NaN     NaN     NaN       NaN     NaN   \n",
       "79151  server_37091    22.0     1.0     6.0   73711.0   488.0   \n",
       "79152  server_37091     NaN     NaN     NaN       NaN     NaN   \n",
       "\n",
       "              collect_time  manufacturer  vendor     dt_collect_time  ...  \\\n",
       "0      2019-05-01 00:00:03           0.0     1.0 2019-05-01 00:00:03  ...   \n",
       "1      2019-05-01 00:00:03           0.0     1.0 2019-05-01 00:00:03  ...   \n",
       "2      2019-05-01 00:00:04           1.0     2.0 2019-05-01 00:00:04  ...   \n",
       "3      2019-05-01 00:00:05           1.0     2.0 2019-05-01 00:00:05  ...   \n",
       "4      2019-05-01 00:00:17           2.0     0.0 2019-05-01 00:00:17  ...   \n",
       "...                    ...           ...     ...                 ...  ...   \n",
       "79148  2019-05-01 23:59:10           0.0     0.0 2019-05-01 23:59:10  ...   \n",
       "79149  2019-05-01 23:59:10           0.0     0.0 2019-05-01 23:59:10  ...   \n",
       "79150  2019-05-01 23:59:10           0.0     0.0 2019-05-01 23:59:10  ...   \n",
       "79151  2019-05-01 23:59:56           2.0     0.0 2019-05-01 23:59:56  ...   \n",
       "79152  2019-05-01 23:59:56           2.0     0.0 2019-05-01 23:59:56  ...   \n",
       "\n",
       "       3_hwerr_kp  1_hwerr_fl  3_hwerr_r  _hwerr_cd  3_sup_mce_note  \\\n",
       "0             NaN         NaN        NaN        NaN             NaN   \n",
       "1             NaN         NaN        NaN        NaN             NaN   \n",
       "2             NaN         NaN        NaN        NaN             NaN   \n",
       "3             NaN         NaN        NaN        NaN             NaN   \n",
       "4             NaN         NaN        NaN        NaN             NaN   \n",
       "...           ...         ...        ...        ...             ...   \n",
       "79148         NaN         NaN        NaN        NaN             NaN   \n",
       "79149         NaN         NaN        NaN        NaN             NaN   \n",
       "79150         NaN         NaN        NaN        NaN             NaN   \n",
       "79151         NaN         NaN        NaN        NaN             NaN   \n",
       "79152         NaN         NaN        NaN        NaN             NaN   \n",
       "\n",
       "       3_cmci_sub  3_cmci_det  3_hwerr_pi  3_hwerr_o  3_hwerr_mce_l  \n",
       "0             NaN         NaN         NaN        NaN            NaN  \n",
       "1             NaN         NaN         NaN        NaN            NaN  \n",
       "2             NaN         NaN         NaN        NaN            NaN  \n",
       "3             NaN         NaN         NaN        NaN            NaN  \n",
       "4             NaN         NaN         NaN        NaN            NaN  \n",
       "...           ...         ...         ...        ...            ...  \n",
       "79148         NaN         NaN         NaN        NaN            NaN  \n",
       "79149         NaN         NaN         NaN        NaN            NaN  \n",
       "79150         NaN         NaN         NaN        NaN            NaN  \n",
       "79151         NaN         NaN         NaN        NaN            NaN  \n",
       "79152         NaN         NaN         NaN        NaN            NaN  \n",
       "\n",
       "[79153 rows x 58 columns]"
      ]
     },
     "execution_count": 26,
     "metadata": {},
     "output_type": "execute_result"
    }
   ],
   "source": [
    "df_concated_sample_new"
   ]
  },
  {
   "cell_type": "code",
   "execution_count": null,
   "metadata": {},
   "outputs": [],
   "source": []
  },
  {
   "cell_type": "code",
   "execution_count": null,
   "metadata": {},
   "outputs": [],
   "source": []
  },
  {
   "cell_type": "code",
   "execution_count": null,
   "metadata": {},
   "outputs": [],
   "source": [
    "df_trainable = get_data_trainable(df_address_log, df_mce_log, df_kernel_log, df_failure)"
   ]
  },
  {
   "cell_type": "code",
   "execution_count": null,
   "metadata": {},
   "outputs": [],
   "source": []
  },
  {
   "cell_type": "code",
   "execution_count": null,
   "metadata": {},
   "outputs": [],
   "source": []
  },
  {
   "cell_type": "code",
   "execution_count": null,
   "metadata": {},
   "outputs": [],
   "source": []
  },
  {
   "cell_type": "code",
   "execution_count": null,
   "metadata": {},
   "outputs": [],
   "source": []
  },
  {
   "cell_type": "code",
   "execution_count": null,
   "metadata": {},
   "outputs": [],
   "source": []
  },
  {
   "cell_type": "code",
   "execution_count": null,
   "metadata": {},
   "outputs": [],
   "source": []
  },
  {
   "cell_type": "markdown",
   "metadata": {},
   "source": [
    "### Leakage数据"
   ]
  },
  {
   "cell_type": "code",
   "execution_count": null,
   "metadata": {
    "ExecuteTime": {
     "end_time": "2021-04-27T17:16:48.853555Z",
     "start_time": "2021-04-27T17:07:40.282899Z"
    }
   },
   "outputs": [],
   "source": [
    "df_address_log_leak = pd.read_csv(\"./tcdata/memory_sample_address_log_round1_b_test.csv\")\n",
    "df_address_log_leak = preprocess(df_address_log_leak)\n",
    "\n",
    "df_mce_log_leak = pd.read_csv(\"./tcdata/memory_sample_mce_log_round1_b_test.csv\")\n",
    "df_mce_log_leak = preprocess(df_mce_log_leak)\n",
    "\n",
    "\n",
    "df_kernel_log_leak = pd.read_csv(\"./tcdata/memory_sample_kernel_log_round1_b_test.csv\")\n",
    "df_failure_leak = df_kernel_log_leak[\n",
    "    ['serial_number', 'failure_time', 'tag']\n",
    "]\n",
    "df_failure_leak['dt_failure_time'] = pd.to_datetime(df_failure_leak['failure_time'])\n",
    "df_failure_leak = df_failure_leak.sort_values(\"dt_failure_time\")\n",
    "df_failure_leak = df_failure_leak[~df_failure_leak.dt_failure_time.isnull()]\n",
    "df_failure_leak = df_failure_leak.drop_duplicates()\n",
    "\n",
    "df_kernel_log_leak = df_kernel_log_leak[\n",
    "    [col for col in df_kernel_log_leak if col not in ['failure_time', 'tag']]\n",
    "]\n",
    "df_kernel_log_leak = preprocess(df_kernel_log_leak)\n",
    "\n",
    "df_trainable_leak = get_data_trainable(\n",
    "    df_address_log_leak, df_mce_log_leak, df_kernel_log_leak, df_failure_leak)"
   ]
  },
  {
   "cell_type": "code",
   "execution_count": null,
   "metadata": {
    "ExecuteTime": {
     "end_time": "2021-04-27T17:16:48.861017Z",
     "start_time": "2021-04-27T17:16:48.856320Z"
    }
   },
   "outputs": [],
   "source": [
    "df_trainable_leak.shape"
   ]
  },
  {
   "cell_type": "markdown",
   "metadata": {},
   "source": [
    "## 缓存数据"
   ]
  },
  {
   "cell_type": "code",
   "execution_count": null,
   "metadata": {
    "ExecuteTime": {
     "end_time": "2021-04-28T02:10:00.481843Z",
     "start_time": "2021-04-28T02:10:00.477872Z"
    }
   },
   "outputs": [],
   "source": [
    "cache_name = f\"cache_{notebook_id}.pickle\"\n",
    "cache_name"
   ]
  },
  {
   "cell_type": "code",
   "execution_count": null,
   "metadata": {
    "ExecuteTime": {
     "end_time": "2021-04-27T17:17:00.347371Z",
     "start_time": "2021-04-27T17:16:48.868019Z"
    }
   },
   "outputs": [],
   "source": [
    "with open(cache_name, 'wb') as f:\n",
    "    pickle.dump([df_trainable, df_trainable_leak, df_failure_leak], f)"
   ]
  },
  {
   "cell_type": "code",
   "execution_count": null,
   "metadata": {
    "ExecuteTime": {
     "end_time": "2021-04-28T02:10:30.593641Z",
     "start_time": "2021-04-28T02:10:23.645264Z"
    }
   },
   "outputs": [],
   "source": [
    "with open('cache_i-want-to-be-top-5-v5.pickle', 'rb') as f:\n",
    "    df_trainable, df_trainable_leak, df_failure_leak = pickle.load(f)"
   ]
  },
  {
   "cell_type": "markdown",
   "metadata": {},
   "source": [
    "# 训练模型"
   ]
  },
  {
   "cell_type": "markdown",
   "metadata": {},
   "source": [
    "## 记录特征的栏位"
   ]
  },
  {
   "cell_type": "code",
   "execution_count": null,
   "metadata": {
    "ExecuteTime": {
     "end_time": "2021-04-27T17:49:31.085845Z",
     "start_time": "2021-04-27T17:49:31.074204Z"
    }
   },
   "outputs": [],
   "source": [
    "all_feature_columns = get_all_features(df_trainable)\n",
    "# 会用来训练\n",
    "all_feature_columns"
   ]
  },
  {
   "cell_type": "code",
   "execution_count": null,
   "metadata": {
    "ExecuteTime": {
     "end_time": "2021-04-27T17:49:31.874986Z",
     "start_time": "2021-04-27T17:49:31.870550Z"
    }
   },
   "outputs": [],
   "source": [
    "df_trainable.columns"
   ]
  },
  {
   "cell_type": "code",
   "execution_count": null,
   "metadata": {},
   "outputs": [],
   "source": []
  },
  {
   "cell_type": "code",
   "execution_count": null,
   "metadata": {
    "ExecuteTime": {
     "end_time": "2021-04-27T17:49:36.283143Z",
     "start_time": "2021-04-27T17:49:34.617493Z"
    }
   },
   "outputs": [],
   "source": [
    "def nice_str(v):\n",
    "    if v < 10:\n",
    "        return '0' + str(v)\n",
    "    return str(v)\n",
    "\n",
    "\n",
    "df_trainable['collect_time'] = \\\n",
    "    df_trainable.dt_date.apply(str) + ' ' + \\\n",
    "    df_trainable.dt_hour.apply(nice_str) + ':' + \\\n",
    "    df_trainable.dt_minute.apply(nice_str) + ':00'\n",
    "\n",
    "df_trainable['dt_collect_time'] = pd.to_datetime(\n",
    "    df_trainable['collect_time']\n",
    ")\n"
   ]
  },
  {
   "cell_type": "code",
   "execution_count": null,
   "metadata": {
    "ExecuteTime": {
     "end_time": "2021-04-27T17:49:39.056114Z",
     "start_time": "2021-04-27T17:49:38.086385Z"
    }
   },
   "outputs": [],
   "source": [
    "import datetime\n",
    "sn_time = df_trainable.groupby(\n",
    "    'serial_number'\n",
    ").agg({'dt_collect_time': ['min', 'max']}).reset_index()\n",
    "\n",
    "sn_time.columns=['serial_number', 'min_dt', 'max_dt']\n",
    "sn_time['gap_days'] = sn_time.apply(lambda x:(x.max_dt - x.min_dt).days,axis=1)\n",
    "sn_time.loc[sn_time.gap_days > 21,'min_dt'] = sn_time.loc[sn_time.gap_days>30].max_dt - datetime.timedelta(days=31)\n",
    "sn_time = sn_time[['serial_number','min_dt','max_dt']]"
   ]
  },
  {
   "cell_type": "code",
   "execution_count": null,
   "metadata": {
    "ExecuteTime": {
     "end_time": "2021-04-27T17:49:53.056312Z",
     "start_time": "2021-04-27T17:49:41.358960Z"
    }
   },
   "outputs": [],
   "source": [
    "df_trainable = df_trainable.merge(sn_time)\n",
    "df_trainable = df_trainable[df_trainable.dt_collect_time > df_trainable.min_dt]"
   ]
  },
  {
   "cell_type": "code",
   "execution_count": null,
   "metadata": {
    "ExecuteTime": {
     "end_time": "2021-04-27T17:50:04.463084Z",
     "start_time": "2021-04-27T17:50:04.459126Z"
    }
   },
   "outputs": [],
   "source": [
    "df_trainable.shape"
   ]
  },
  {
   "cell_type": "markdown",
   "metadata": {},
   "source": [
    "## 标准化数据"
   ]
  },
  {
   "cell_type": "code",
   "execution_count": null,
   "metadata": {
    "ExecuteTime": {
     "end_time": "2021-04-27T17:50:34.335517Z",
     "start_time": "2021-04-27T17:50:33.869592Z"
    }
   },
   "outputs": [],
   "source": [
    "X = df_trainable[\n",
    "    all_feature_columns\n",
    "].values\n",
    "\n",
    "y_remain = df_trainable.remain.values\n",
    "gc.collect()"
   ]
  },
  {
   "cell_type": "markdown",
   "metadata": {},
   "source": [
    "## 打标签"
   ]
  },
  {
   "cell_type": "code",
   "execution_count": null,
   "metadata": {
    "ExecuteTime": {
     "end_time": "2021-04-27T17:50:36.198015Z",
     "start_time": "2021-04-27T17:50:36.193983Z"
    }
   },
   "outputs": [],
   "source": [
    "y_binary = np.copy(y_remain)\n",
    "\n",
    "y_binary[y_binary <= hyper_parameters['pos_threshold']] = 1\n",
    "y_binary[y_binary > hyper_parameters['pos_threshold']] = 0"
   ]
  },
  {
   "cell_type": "markdown",
   "metadata": {},
   "source": [
    "## 模型训练"
   ]
  },
  {
   "cell_type": "code",
   "execution_count": null,
   "metadata": {
    "ExecuteTime": {
     "end_time": "2021-04-27T17:52:40.096808Z",
     "start_time": "2021-04-27T17:50:37.939309Z"
    }
   },
   "outputs": [],
   "source": [
    "# 我们采用了LightGBM 模型，实测发现最终结果对参数比较鲁棒\n",
    "# 我们采用了focal loss 函数作为训练目标，focal loss 函数可以较好的处理样本不均衡的问题，在训练中更加注重小样本的学习，\n",
    "from scipy.misc import derivative\n",
    "from lightgbm.sklearn import LGBMClassifier\n",
    "from sklearn.metrics import f1_score\n",
    "\n",
    "a,g = 0.9833, 2\n",
    "def focal_loss_lgb(y_true, y_pred):\n",
    "    def fl(x,t):\n",
    "        p = 1/(1+np.exp(-x))\n",
    "        return -( a*t + (1-a)*(1-t) ) * (( 1 - ( t*p + (1-t)*(1-p)) )**g) * ( t*np.log(p)+(1-t)*np.log(1-p) )\n",
    "    partial_fl = lambda x: fl(x, y_true)\n",
    "    grad = derivative(partial_fl, y_pred, n=1, dx=1e-6)\n",
    "    hess = derivative(partial_fl, y_pred, n=2, dx=1e-6)\n",
    "    return grad, hess\n",
    "  \n",
    "def focal_loss_lgb_eval(y_true, y_pred):\n",
    "    p = 1/(1+np.exp(-y_pred))\n",
    "    loss = -( a*y_true + (1-a)*(1-y_true) ) * (( 1 - ( y_true*p + (1-y_true)*(1-p)) )**g) * ( y_true*np.log(p)+(1-y_true)*np.log(1-p) )\n",
    "    return 'focal_loss', np.mean(loss), False\n",
    "\n",
    "\n",
    "def focal_loss_xgb(y_pred, y_true):\n",
    "    def fl(x,t):\n",
    "        p = 1/(1+np.exp(-x))\n",
    "        return -( a*t + (1-a)*(1-t) ) * (( 1 - ( t*p + (1-t)*(1-p)) )**g) * ( t*np.log(p)+(1-t)*np.log(1-p) )\n",
    "    partial_fl = lambda x: fl(x, y_true)\n",
    "    grad = derivative(partial_fl, y_pred, n=1, dx=1e-6)\n",
    "    hess = derivative(partial_fl, y_pred, n=2, dx=1e-6)\n",
    "    print(grad, hess)\n",
    "    return grad, hess\n",
    "\n",
    "\n",
    "def f1_score_eval(y_true, y_pred):  \n",
    "    print(y_true)\n",
    "    return 'f1_score', f1_score(y_true, (y_pred > 0.5).astype(int)), True\n",
    "\n",
    "\n",
    "from sklearn.metrics import fbeta_score, make_scorer\n",
    "def f1_score_xgb_eval(y_pred, y_true):  \n",
    "    value = f1_score(y_true.get_label(), (y_pred > 0.5).astype(int))\n",
    "    return 'f1_score', -1 * value\n",
    "\n",
    "\n",
    "\n",
    "\n",
    "# https://machinelearningmastery.com/cross-validation-for-imbalanced-classification/\n",
    "kf = sklearn.model_selection.StratifiedKFold(\n",
    "    n_splits=hyper_parameters['kfold'], shuffle=True, random_state=2019,\n",
    ")\n",
    "\n",
    "clf_list = []\n",
    "\n",
    "gc.collect()\n",
    "\n",
    "for idx, (train_index, test_index) in enumerate(kf.split(X, y_binary)):\n",
    "    print(f\"kFold: {idx+1}/{hyper_parameters['kfold']}\")\n",
    "    X_train, X_valid = X[train_index], X[test_index]\n",
    "    y_train, y_valid = y_binary[train_index], y_binary[test_index]\n",
    "    print(np.sum(y_train == 0), np.sum(y_train == 1))\n",
    "    print(np.sum(y_valid == 0), np.sum(y_valid == 1))\n",
    "    \n",
    "    clf = LGBMClassifier(\n",
    "        learning_rate=0.05,\n",
    "        n_estimators=1000,\n",
    "        max_depth= 7,\n",
    "        subsample=0.7,\n",
    "        colsample_bytree=0.7,\n",
    "        random_state=2019,\n",
    "        metric=None,\n",
    "        objective=focal_loss_lgb,\n",
    "    )\n",
    "\n",
    "    clf.fit(\n",
    "        X_train, y_train,\n",
    "        eval_set=[(X_valid, y_valid)],\n",
    "        eval_metric=[\n",
    "            focal_loss_lgb_eval,\n",
    "            f1_score_eval\n",
    "        ],\n",
    "        verbose=1,\n",
    "        early_stopping_rounds=200\n",
    "    )\n",
    "    clf_list.append(clf)"
   ]
  },
  {
   "cell_type": "markdown",
   "metadata": {},
   "source": [
    "## 保存模型"
   ]
  },
  {
   "cell_type": "code",
   "execution_count": null,
   "metadata": {
    "ExecuteTime": {
     "end_time": "2021-04-27T17:52:54.589801Z",
     "start_time": "2021-04-27T17:52:54.584195Z"
    }
   },
   "outputs": [],
   "source": [
    "%%javascript\n",
    "// 必须手动跑\n",
    "var kernel = IPython.notebook.kernel;\n",
    "var _the_name = window.document.getElementById(\"notebook_name\").innerHTML;\n",
    "kernel.execute(`notebook_id = '${_the_name}'`);\n"
   ]
  },
  {
   "cell_type": "code",
   "execution_count": null,
   "metadata": {
    "ExecuteTime": {
     "end_time": "2021-04-27T17:52:55.709820Z",
     "start_time": "2021-04-27T17:52:55.703631Z"
    }
   },
   "outputs": [],
   "source": [
    "\n",
    "model_name = f\"{notebook_id}_{exp_id[:10]}.pickle\"\n",
    "model_name"
   ]
  },
  {
   "cell_type": "code",
   "execution_count": null,
   "metadata": {
    "ExecuteTime": {
     "end_time": "2021-04-27T17:52:57.519520Z",
     "start_time": "2021-04-27T17:52:57.491453Z"
    }
   },
   "outputs": [],
   "source": [
    "with open(model_name, 'wb') as f:\n",
    "    pickle.dump(clf_list, f)"
   ]
  },
  {
   "cell_type": "markdown",
   "metadata": {},
   "source": [
    "## 模型验证"
   ]
  },
  {
   "cell_type": "code",
   "execution_count": null,
   "metadata": {
    "ExecuteTime": {
     "end_time": "2021-04-27T17:52:59.978991Z",
     "start_time": "2021-04-27T17:52:59.974955Z"
    }
   },
   "outputs": [],
   "source": [
    "def predict(clf_list, X):\n",
    "    all_results = []\n",
    "    for clf in clf_list:\n",
    "        if type(clf).__name__ == 'LGBMClassifier':\n",
    "            all_results.append(clf.predict_proba(X))\n",
    "        else:\n",
    "            all_results.append(clf.predict_proba(X)[:,1])\n",
    "    return np.array(all_results)"
   ]
  },
  {
   "cell_type": "code",
   "execution_count": null,
   "metadata": {
    "ExecuteTime": {
     "end_time": "2021-04-27T17:53:03.231613Z",
     "start_time": "2021-04-27T17:53:00.418422Z"
    }
   },
   "outputs": [],
   "source": [
    "y_pred_in_sample = np.array(np.mean(predict(clf_list, df_trainable[\n",
    "    all_feature_columns\n",
    "]), axis=0))"
   ]
  },
  {
   "cell_type": "code",
   "execution_count": null,
   "metadata": {
    "ExecuteTime": {
     "end_time": "2021-04-27T17:53:05.005243Z",
     "start_time": "2021-04-27T17:53:03.233781Z"
    }
   },
   "outputs": [],
   "source": [
    "th_candidates = np.linspace(0.0, 2, 21)\n",
    "for th in th_candidates:\n",
    "    print(f\"th={th:.3f}, score={f1_score(y_binary, (y_pred_in_sample > th).astype(int)):.5f}\")"
   ]
  },
  {
   "cell_type": "markdown",
   "metadata": {},
   "source": [
    "# Leak验证"
   ]
  },
  {
   "cell_type": "markdown",
   "metadata": {},
   "source": [
    "## 读取模型"
   ]
  },
  {
   "cell_type": "code",
   "execution_count": null,
   "metadata": {
    "ExecuteTime": {
     "end_time": "2021-04-27T17:55:27.926110Z",
     "start_time": "2021-04-27T17:55:27.881491Z"
    }
   },
   "outputs": [],
   "source": [
    "model_name = \"i-want-to-be-top-5-v5_last_month_eyJncmFudW.pickle\"\n",
    "with open(model_name, 'rb') as f:\n",
    "    saved_clf_list = pickle.load(f)\n",
    "model_name"
   ]
  },
  {
   "cell_type": "markdown",
   "metadata": {},
   "source": [
    "## 读取数据"
   ]
  },
  {
   "cell_type": "code",
   "execution_count": null,
   "metadata": {
    "ExecuteTime": {
     "end_time": "2021-04-27T17:55:31.095906Z",
     "start_time": "2021-04-27T17:55:30.538274Z"
    }
   },
   "outputs": [],
   "source": [
    "X_leak = df_trainable_leak[\n",
    "    all_feature_columns\n",
    "].values\n",
    "\n",
    "y_remain_leak = df_trainable_leak.remain.values"
   ]
  },
  {
   "cell_type": "markdown",
   "metadata": {},
   "source": [
    "## 完成推理"
   ]
  },
  {
   "cell_type": "code",
   "execution_count": null,
   "metadata": {
    "ExecuteTime": {
     "end_time": "2021-04-27T17:55:32.252229Z",
     "start_time": "2021-04-27T17:55:31.097582Z"
    }
   },
   "outputs": [],
   "source": [
    "y_pred_leak = np.array(np.mean(predict(saved_clf_list, X_leak), axis=0))"
   ]
  },
  {
   "cell_type": "code",
   "execution_count": null,
   "metadata": {
    "ExecuteTime": {
     "end_time": "2021-04-27T17:55:32.259406Z",
     "start_time": "2021-04-27T17:55:32.254658Z"
    }
   },
   "outputs": [],
   "source": [
    "y_pred_leak"
   ]
  },
  {
   "cell_type": "markdown",
   "metadata": {},
   "source": [
    "## 验证F1"
   ]
  },
  {
   "cell_type": "code",
   "execution_count": null,
   "metadata": {
    "ExecuteTime": {
     "end_time": "2021-04-27T17:55:34.451516Z",
     "start_time": "2021-04-27T17:55:33.197616Z"
    }
   },
   "outputs": [],
   "source": [
    "th_candidates = np.linspace(0.0, 2, 21)\n",
    "y_binary_leak = y_remain_leak.copy()\n",
    "\n",
    "y_binary_leak[y_binary_leak <= hyper_parameters['pos_threshold']] = 1\n",
    "y_binary_leak[y_binary_leak > hyper_parameters['pos_threshold']] = 0\n",
    "\n",
    "for th in th_candidates:\n",
    "    print(f\"th={th:.3f}, score={f1_score(y_binary_leak, (y_pred_leak > th).astype(int)):.5f}\")"
   ]
  },
  {
   "cell_type": "code",
   "execution_count": null,
   "metadata": {
    "ExecuteTime": {
     "end_time": "2021-04-27T17:58:20.588774Z",
     "start_time": "2021-04-27T17:58:20.078066Z"
    }
   },
   "outputs": [],
   "source": [
    "df_trainable_valid = df_trainable.copy()"
   ]
  },
  {
   "cell_type": "code",
   "execution_count": null,
   "metadata": {
    "ExecuteTime": {
     "end_time": "2021-04-27T17:58:52.960530Z",
     "start_time": "2021-04-27T17:58:50.122449Z"
    }
   },
   "outputs": [],
   "source": [
    "df_trainable_valid[\"y_pred\"] = np.array(np.mean(predict(clf_list, df_trainable[\n",
    "    all_feature_columns\n",
    "]), axis=0))"
   ]
  },
  {
   "cell_type": "code",
   "execution_count": null,
   "metadata": {
    "ExecuteTime": {
     "end_time": "2021-04-27T17:59:32.566715Z",
     "start_time": "2021-04-27T17:59:31.615336Z"
    }
   },
   "outputs": [],
   "source": [
    "df_test = df_trainable_valid[\n",
    "    df_trainable_valid.dt_date == datetime.date(2019, 5, 1)\n",
    "]"
   ]
  },
  {
   "cell_type": "code",
   "execution_count": null,
   "metadata": {
    "ExecuteTime": {
     "end_time": "2021-04-27T18:38:25.181867Z",
     "start_time": "2021-04-27T18:38:25.178890Z"
    }
   },
   "outputs": [],
   "source": [
    "pd.set_option('display.float_format', lambda x: '{:.2f}'.format(x))\n",
    "np.set_printoptions(suppress=True)"
   ]
  },
  {
   "cell_type": "code",
   "execution_count": null,
   "metadata": {
    "ExecuteTime": {
     "end_time": "2021-04-27T18:52:17.780611Z",
     "start_time": "2021-04-27T18:52:17.765289Z"
    }
   },
   "outputs": [],
   "source": [
    "df_test[\n",
    "    df_test.y_pred > 0.6\n",
    "].sort_values(['dt_hour', 'dt_minute', 'serial_number'])[\n",
    "    ['dt_hour', 'dt_minute', 'serial_number', 'y_pred']\n",
    "]"
   ]
  },
  {
   "cell_type": "code",
   "execution_count": null,
   "metadata": {},
   "outputs": [],
   "source": []
  },
  {
   "cell_type": "code",
   "execution_count": null,
   "metadata": {
    "ExecuteTime": {
     "end_time": "2021-04-27T18:51:43.496870Z",
     "start_time": "2021-04-27T18:51:43.465742Z"
    }
   },
   "outputs": [],
   "source": [
    "a = df_test[\n",
    "    df_test.y_pred > 0.6\n",
    "].sort_values(['dt_hour', 'dt_minute', 'serial_number']).head(1)[all_feature_columns].values[0].tolist()\n",
    "\n",
    "b = [5688.0, 0.0, 3.944521497919556, 1442.0, 5.636932510460378, 31.775008127485137, 12.0, 0.0, 68256.0, 10332.0, 352.113618026909, 0.0, 0.0, 0.0, 1442.0, 0.0, 0.0, 0.0, 0.0, 0.0, 0.0, 0.0, 6636.0, 0.0, 4.601941747572815, 1442.0, 6.576421262203774, 43.24931661796588, 14.0, 0.0, 92904.0, 12054.0, 410.79922103139387, 50885536.0, 0.0, 35288.16643550624, 1442.0, 50431.17017302735, 2543302925.020843, 109936.0, 0.0, 5463100081408.0, 92457832.0, 3150112.540618192, 231456.0, 0.0, 160.51040221914008, 1442.0, 288.3300720950177, 83134.23047431812, 1016.0, 0.0, 157030656.0, 436448.0, 17139.31620573003, 2884.0, 2.0, 2.0, 1442.0, 0.0, 0.0, 2.0, 2.0, 5768.0, 0.0, 0.0, 0.0, 0.0, 0.0, 1442.0, 0.0, 0.0, 0.0, 0.0, 0.0, 0.0, 0.0, 3792.0, 0.0, 2.6296809986130376, 1442.0, 3.7579550069735848, 14.122225834437835, 8.0, 0.0, 30336.0, 6888.0, 234.74241201793936, 2041.0, 0.0, 1.4153952843273232, 1442.0, 2.6415775958036565, 6.977932194651826, 9.0, 0.0, 12951.0, 3869.0, 156.0929210438449, 7584.0, 0.0, 5.259361997226075, 1442.0, 7.5159100139471695, 56.48890333775134, 16.0, 0.0, 121344.0, 13776.0, 469.4848240358787, 4308.0, 0.0, 2.9875173370319, 1442.0, 5.462250690144852, 29.836182601987918, 19.0, 0.0, 55894.0, 8140.0, 323.7684357685289, 11399.0, 0.0, 7.90499306518724, 1442.0, 11.297330212821903, 127.62966993753857, 25.0, 0.0, 274151.0, 20710.0, 705.7237419840712, 6555.0, 0.0, 4.545769764216367, 1442.0, 8.266683597100128, 68.3380576945643, 29.0, 0.0, 128341.0, 12376.0, 490.38964099988897, 0.0, 0.0, 0.0, 1442.0, 0.0, 0.0, 0.0, 0.0, 0.0, 0.0, 0.0, 474.0, 0.0, 0.3287101248266297, 1442.0, 0.4697443758716981, 0.22065977866309117, 1.0, 0.0, 474.0, 838.0, 28.948229652260256, 0.0, 0.0, 0.0, 1442.0, 0.0, 0.0, 0.0, 0.0, 0.0, 0.0, 0.0, 0.0, 0.0, 0.0, 1442.0, 0.0, 0.0, 0.0, 0.0, 0.0, 0.0, 0.0, 0.0, 0.0, 0.0, 1442.0, 0.0, 0.0, 0.0, 0.0, 0.0, 0.0, 0.0, 0.0, 0.0, 0.0, 1442.0, 0.0, 0.0, 0.0, 0.0, 0.0, 0.0, 0.0, 0.0, 0.0, 0.0, 1442.0, 0.0, 0.0, 0.0, 0.0, 0.0, 0.0, 0.0, 0.0, 0.0, 0.0, 1442.0, 0.0, 0.0, 0.0, 0.0, 0.0, 0.0, 0.0, 0.0, 0.0, 0.0, 1442.0, 0.0, 0.0, 0.0, 0.0, 0.0, 0.0, 0.0, 0.0, 0.0, 0.0, 1442.0, 0.0, 0.0, 0.0, 0.0, 0.0, 0.0, 0.0, 0.0, 0.0, 0.0, 1442.0, 0.0, 0.0, 0.0, 0.0, 0.0, 0.0, 0.0, 0.0, 0.0, 0.0, 1442.0, 0.0, 0.0, 0.0, 0.0, 0.0, 0.0, 0.0, 0.0, 0.0, 0.0, 1442.0, 0.0, 0.0, 0.0, 0.0, 0.0, 0.0, 0.0, 0.0, 0.0, 0.0, 1442.0, 0.0, 0.0, 0.0, 0.0, 0.0, 0.0, 0.0, 0.0, 0.0, 0.0, 1442.0, 0.0, 0.0, 0.0, 0.0, 0.0, 0.0, 0.0, 0.0, 0.0, 0.0, 1442.0, 0.0, 0.0, 0.0, 0.0, 0.0, 0.0, 0.0, 0.0, 0.0, 0.0, 1442.0, 0.0, 0.0, 0.0, 0.0, 0.0, 0.0, 0.0, 0.0, 0.0, 0.0, 1442.0, 0.0, 0.0, 0.0, 0.0, 0.0, 0.0, 0.0, 0.0, 0.0, 0.0, 1442.0, 0.0, 0.0, 0.0, 0.0, 0.0, 0.0, 0.0, 0.0, 0.0, 0.0, 1442.0, 0.0, 0.0, 0.0, 0.0, 0.0, 0.0, 0.0, 0.0, 0.0, 0.0, 1442.0, 0.0, 0.0, 0.0, 0.0, 0.0, 0.0, 0.0, 0.0, 0.0, 0.0, 1442.0, 0.0, 0.0, 0.0, 0.0, 0.0, 0.0, 0.0, 0.0, 0.0, 0.0, 1442.0, 0.0, 0.0, 0.0, 0.0, 0.0, 0.0, 0.0, 0.0, 0.0, 0.0, 1442.0, 0.0, 0.0, 0.0, 0.0, 0.0, 0.0, 0.0, 0.0, 0.0, 0.0, 1442.0, 0.0, 0.0, 0.0, 0.0, 0.0, 0.0, 0.0, 0.0, 0.0, 0.0, 1442.0, 0.0, 0.0, 0.0, 0.0, 0.0, 0.0, 0.0, 0.0, 0.0, 0.0, 1442.0, 0.0, 0.0, 0.0, 0.0, 0.0, 0.0, 0.0, 0.0, 0.0, 0.0, 1442.0, 0.0, 0.0, 0.0, 0.0, 0.0, 0.0, 0.0, 0.0, 0.0, 0.0, 1442.0, 0.0, 0.0, 0.0, 0.0, 0.0, 0.0, 0.0, 0.0, 0.0, 0.0, 1442.0, 0.0, 0.0, 0.0, 0.0, 0.0, 0.0, 0.0, 0.0, 0.0, 0.0, 1442.0, 0.0, 0.0, 0.0, 0.0, 0.0, 0.0, 0.0, 0.0, 0.0, 0.0, 1442.0, 0.0, 0.0, 0.0, 0.0, 0.0, 0.0, 0.0, 0.0, 0.0, 0.0, 1442.0, 0.0, 0.0, 0.0, 0.0, 0.0, 0.0, 0.0, 0.0, 0.0, 0.0, 1442.0, 0.0, 0.0, 0.0, 0.0, 0.0, 0.0, 0.0, 0.0, 0.0, 0.0, 1442.0, 0.0, 0.0, 0.0, 0.0, 0.0, 0.0, 0.0, 0.0, 0.0, 0.0, 1442.0, 0.0, 0.0, 0.0, 0.0, 0.0, 0.0, 0.0, 9.0, 0.0, 0.0062413314840499305, 1442.0, 0.07875517294347172, 0.006202377265356139, 1.0, 0.0, 9.0, 18.0, 4.242640687119285, 0.0, 0.0, 0.0, 1442.0, 0.0, 0.0, 0.0, 0.0, 0.0, 0.0, 0.0, 0.0, 0.0, 0.0, 1442.0, 0.0, 0.0, 0.0, 0.0, 0.0, 0.0, 0.0, 0.0, 0.0, 0.0, 1442.0, 0.0, 0.0, 0.0, 0.0, 0.0, 0.0, 0.0, 0.0, 0.0, 0.0, 1442.0, 0.0, 0.0, 0.0, 0.0, 0.0, 0.0, 0.0, 0.0, 0.0, 0.0, 1442.0, 0.0, 0.0, 0.0, 0.0, 0.0, 0.0, 0.0]"
   ]
  },
  {
   "cell_type": "code",
   "execution_count": null,
   "metadata": {
    "ExecuteTime": {
     "end_time": "2021-04-27T18:46:42.621274Z",
     "start_time": "2021-04-27T18:46:42.609560Z"
    }
   },
   "outputs": [],
   "source": [
    "# for _i, (_a, _b) in enumerate(zip(a, b)):\n",
    "#     if _a == _b:\n",
    "#         print(all_feature_columns[_i], _a, _b)\n",
    "for _i, (_a, _b) in enumerate(zip(a, b)):\n",
    "    if _a != _b:\n",
    "        print(all_feature_columns[_i], _a, _b)\n"
   ]
  },
  {
   "cell_type": "code",
   "execution_count": null,
   "metadata": {
    "ExecuteTime": {
     "end_time": "2021-04-27T18:30:06.284090Z",
     "start_time": "2021-04-27T18:30:04.157114Z"
    }
   },
   "outputs": [],
   "source": [
    "df_address_log_2019_5_1 = df_address_log[\n",
    "    (df_address_log.dt_collect_time.dt.date == datetime.date(2019, 5, 1)) & (\n",
    "        df_address_log.dt_collect_time.dt.hour == 3) & (\n",
    "        df_address_log.dt_collect_time.dt.minute < 10)\n",
    "]"
   ]
  },
  {
   "cell_type": "code",
   "execution_count": null,
   "metadata": {
    "ExecuteTime": {
     "end_time": "2021-04-27T18:30:22.888608Z",
     "start_time": "2021-04-27T18:30:19.539942Z"
    }
   },
   "outputs": [],
   "source": [
    "df_mce_log_2019_5_1 = df_mce_log[\n",
    "    (df_mce_log.dt_collect_time.dt.date == datetime.date(2019, 5, 1)) & (\n",
    "        df_mce_log.dt_collect_time.dt.hour == 3) & (\n",
    "        df_mce_log.dt_collect_time.dt.minute < 10)\n",
    "]"
   ]
  },
  {
   "cell_type": "code",
   "execution_count": null,
   "metadata": {
    "ExecuteTime": {
     "end_time": "2021-04-27T18:30:33.993227Z",
     "start_time": "2021-04-27T18:30:33.556040Z"
    }
   },
   "outputs": [],
   "source": [
    "df_kernel_log_2019_5_1 = df_kernel_log[\n",
    "    (df_kernel_log.dt_collect_time.dt.date == datetime.date(2019, 5, 1)) & (\n",
    "        df_kernel_log.dt_collect_time.dt.hour == 3) & (\n",
    "        df_kernel_log.dt_collect_time.dt.minute < 10)\n",
    "]"
   ]
  },
  {
   "cell_type": "code",
   "execution_count": null,
   "metadata": {
    "ExecuteTime": {
     "end_time": "2021-04-27T18:31:03.966287Z",
     "start_time": "2021-04-27T18:31:03.961931Z"
    }
   },
   "outputs": [],
   "source": [
    "df_address_log_2019_5_1.shape[0] + df_mce_log_2019_5_1.shape[0] + df_kernel_log_2019_5_1.shape[0]"
   ]
  },
  {
   "cell_type": "code",
   "execution_count": null,
   "metadata": {
    "ExecuteTime": {
     "end_time": "2021-04-27T18:36:29.508784Z",
     "start_time": "2021-04-27T18:36:29.483535Z"
    }
   },
   "outputs": [],
   "source": [
    "df_2019_5_1 =  pd.concat([\n",
    "    df_address_log_2019_5_1, df_mce_log_2019_5_1, df_kernel_log_2019_5_1\n",
    "]).sort_values(\"dt_collect_time\").reset_index(drop=True)\n",
    "\n",
    "df_2019_5_1['dt_date'] = df_2019_5_1.dt_collect_time.dt.date\n",
    "df_2019_5_1['dt_hour'] = df_2019_5_1.dt_collect_time.dt.hour\n",
    "df_2019_5_1['dt_minute'] = df_2019_5_1.dt_collect_time.dt.minute\n",
    "\n",
    "df_2019_5_1['granularity'] = (\n",
    "        df_2019_5_1['dt_date'].astype(str) +\n",
    "        \"_\" + df_2019_5_1['dt_hour'].astype(str) +\n",
    "        \"_\" + (df_2019_5_1['dt_minute'] // 10).astype(str)\n",
    ")\n"
   ]
  },
  {
   "cell_type": "code",
   "execution_count": null,
   "metadata": {
    "ExecuteTime": {
     "end_time": "2021-04-27T18:46:12.981221Z",
     "start_time": "2021-04-27T18:46:12.974148Z"
    }
   },
   "outputs": [],
   "source": [
    "# df_2019_5_1\n",
    "df_2019_5_1[\n",
    " df_2019_5_1.serial_number == \"server_3988\"   \n",
    "].shape"
   ]
  },
  {
   "cell_type": "code",
   "execution_count": null,
   "metadata": {
    "ExecuteTime": {
     "end_time": "2021-04-27T18:39:33.835454Z",
     "start_time": "2021-04-27T18:39:33.830421Z"
    }
   },
   "outputs": [],
   "source": [
    "tsfresh.__version__"
   ]
  },
  {
   "cell_type": "code",
   "execution_count": null,
   "metadata": {
    "ExecuteTime": {
     "end_time": "2021-04-27T18:36:44.425168Z",
     "start_time": "2021-04-27T18:36:44.365965Z"
    }
   },
   "outputs": [],
   "source": []
  },
  {
   "cell_type": "code",
   "execution_count": null,
   "metadata": {
    "ExecuteTime": {
     "end_time": "2021-04-27T18:30:53.948950Z",
     "start_time": "2021-04-27T18:30:53.944794Z"
    }
   },
   "outputs": [],
   "source": []
  },
  {
   "cell_type": "code",
   "execution_count": null,
   "metadata": {},
   "outputs": [],
   "source": []
  },
  {
   "cell_type": "code",
   "execution_count": null,
   "metadata": {},
   "outputs": [],
   "source": []
  },
  {
   "cell_type": "code",
   "execution_count": null,
   "metadata": {},
   "outputs": [],
   "source": []
  },
  {
   "cell_type": "code",
   "execution_count": null,
   "metadata": {
    "ExecuteTime": {
     "end_time": "2021-04-27T18:05:44.991680Z",
     "start_time": "2021-04-27T18:05:44.979825Z"
    }
   },
   "outputs": [],
   "source": [
    "all_feature_columns"
   ]
  },
  {
   "cell_type": "code",
   "execution_count": null,
   "metadata": {},
   "outputs": [],
   "source": []
  },
  {
   "cell_type": "code",
   "execution_count": null,
   "metadata": {},
   "outputs": [],
   "source": []
  },
  {
   "cell_type": "code",
   "execution_count": null,
   "metadata": {},
   "outputs": [],
   "source": []
  },
  {
   "cell_type": "code",
   "execution_count": null,
   "metadata": {},
   "outputs": [],
   "source": []
  },
  {
   "cell_type": "code",
   "execution_count": null,
   "metadata": {},
   "outputs": [],
   "source": []
  },
  {
   "cell_type": "markdown",
   "metadata": {},
   "source": [
    "## 验证分数"
   ]
  },
  {
   "cell_type": "markdown",
   "metadata": {},
   "source": [
    "### 搜索threshold和pti"
   ]
  },
  {
   "cell_type": "code",
   "execution_count": null,
   "metadata": {
    "ExecuteTime": {
     "end_time": "2021-04-27T17:55:48.423098Z",
     "start_time": "2021-04-27T17:55:48.419573Z"
    }
   },
   "outputs": [],
   "source": [
    "th_candidates = [0.5, 0.55, 0.6, 0.65]# np.linspace(0.0, 1, 11)\n",
    "pti_candidates = [1, 5, 10, 15]"
   ]
  },
  {
   "cell_type": "code",
   "execution_count": null,
   "metadata": {
    "ExecuteTime": {
     "end_time": "2021-04-27T17:55:49.915119Z",
     "start_time": "2021-04-27T17:55:49.042009Z"
    }
   },
   "outputs": [],
   "source": [
    "import warnings\n",
    "warnings.filterwarnings('ignore')\n",
    "\n",
    "\n",
    "df_trainable_leak_valid = df_trainable_leak.copy()\n",
    "df_trainable_leak_valid['pred'] = y_pred_leak\n",
    "df_trainable_leak_valid['pti'] = 1\n",
    "\n",
    "def nice_str(v):\n",
    "    if v < 10:\n",
    "        return '0' + str(v)\n",
    "    return str(v)\n",
    "\n",
    "\n",
    "df_trainable_leak_valid['collect_time'] = \\\n",
    "    df_trainable_leak_valid.dt_date.apply(str) + ' ' + \\\n",
    "    df_trainable_leak_valid.dt_hour.apply(nice_str) + ':' + \\\n",
    "    df_trainable_leak_valid.dt_minute.apply(nice_str) + ':00'\n",
    "\n",
    "df_trainable_leak_valid['dt_collect_time'] = pd.to_datetime(\n",
    "    df_trainable_leak_valid['collect_time']\n",
    ")\n",
    "\n"
   ]
  },
  {
   "cell_type": "code",
   "execution_count": null,
   "metadata": {
    "ExecuteTime": {
     "end_time": "2021-04-27T17:55:50.039732Z",
     "start_time": "2021-04-27T17:55:49.916819Z"
    }
   },
   "outputs": [],
   "source": [
    "df_trainable_leak_valid"
   ]
  },
  {
   "cell_type": "code",
   "execution_count": null,
   "metadata": {
    "ExecuteTime": {
     "end_time": "2021-04-27T17:55:54.461218Z",
     "start_time": "2021-04-27T17:55:50.939507Z"
    }
   },
   "outputs": [],
   "source": [
    "for th in th_candidates:\n",
    "    for pti in pti_candidates:\n",
    "\n",
    "        sub_df = df_trainable_leak_valid[\n",
    "            df_trainable_leak_valid.pred > th\n",
    "        ]\n",
    "        sub_df['pti'] = pti\n",
    "\n",
    "        sub_df = sub_df.join(\n",
    "            df_failure_leak.set_index('serial_number')['dt_failure_time'], how='left', on='serial_number'\n",
    "        )\n",
    "        sub_df['ati'] = (sub_df['dt_failure_time'] - sub_df['dt_collect_time']) / pd.Timedelta('1min')\n",
    "        sub_df = sub_df[(sub_df['ati']>=0)|(sub_df['ati'].isna())]\n",
    "\n",
    "\n",
    "        # 取每个周期第一个\n",
    "        sub_df = sub_df.sort_values(by=['serial_number', 'dt_collect_time'])\n",
    "        pre_ser = -1\n",
    "        init_pre_time = pd.to_datetime('2018-12-01')\n",
    "        window_time = pd.Timedelta('7D')\n",
    "        pre_time = init_pre_time\n",
    "        judge = []\n",
    "        for sn, cur_time in sub_df[\n",
    "            ['serial_number', 'dt_collect_time']\n",
    "        ].values:\n",
    "            \n",
    "            if pre_ser != sn:\n",
    "                pre_time = init_pre_time\n",
    "                \n",
    "            if (cur_time-pre_time) < window_time:\n",
    "                judge.append(0)\n",
    "            else:\n",
    "                judge.append(1)\n",
    "                pre_time = cur_time\n",
    "                \n",
    "            pre_ser = sn\n",
    "            \n",
    "        judge = np.array(judge)\n",
    "        sub_df = sub_df[judge==1].reset_index(drop=True)\n",
    "\n",
    "        def sigmoid(x):\n",
    "            return 1 / (1 + np.exp(-x))\n",
    "\n",
    "        n_pp = len(sub_df)\n",
    "        n_pr = len(df_failure_leak)\n",
    "\n",
    "        n_tpr = 0\n",
    "        n_tpp = 0\n",
    "        non_zero_scores = []\n",
    "\n",
    "        for sn, pti, ati in sub_df[['serial_number', 'pti', 'ati']].values:\n",
    "            if pd.notna(ati):\n",
    "                if 0 <= pti < 7 * 24 * 60: # 待确定\n",
    "                    if pti <= ati:\n",
    "                        n_tpp += sigmoid(pti/ati)\n",
    "                        non_zero_scores.append(sigmoid(pti/ati))\n",
    "                if ati < 7 * 24 * 60:\n",
    "                    n_tpr += 1\n",
    "\n",
    "        precision = n_tpp / n_pp\n",
    "        recall = n_tpr / n_pr\n",
    "        \n",
    "        if (precision + recall) == 0:\n",
    "            f1 = 0\n",
    "        else:\n",
    "            f1 = 2 * (precision * recall) / (precision + recall)\n",
    "\n",
    "        print(f\"\"\"score:[{f1*100:.3f}] th:[{th:.5f}] pti:[{pti}]\n",
    "        n_tpp:{n_tpp:.3f}, n_pp: {n_pp}, precision: {precision:.3f}, n_tpr: {n_tpr}, n_pr: {n_pr}, recall: {recall:.3f}, f1: {f1:.3f}\"\"\")\n"
   ]
  },
  {
   "cell_type": "code",
   "execution_count": null,
   "metadata": {
    "ExecuteTime": {
     "end_time": "2021-04-27T17:33:17.213641Z",
     "start_time": "2021-04-27T17:33:16.216185Z"
    }
   },
   "outputs": [],
   "source": [
    "dict_trainable_counts = df_trainable_leak.groupby(\"serial_number\").count()[\"dt_date\"].to_dict()"
   ]
  },
  {
   "cell_type": "code",
   "execution_count": null,
   "metadata": {
    "ExecuteTime": {
     "end_time": "2021-04-27T17:33:19.384823Z",
     "start_time": "2021-04-27T17:33:19.355179Z"
    }
   },
   "outputs": [],
   "source": [
    "dict_trainable_counts"
   ]
  },
  {
   "cell_type": "code",
   "execution_count": null,
   "metadata": {
    "ExecuteTime": {
     "end_time": "2021-04-27T17:34:47.238194Z",
     "start_time": "2021-04-27T17:34:46.510338Z"
    }
   },
   "outputs": [],
   "source": [
    "sns.histplot(\n",
    "    df_trainable_leak_valid[\n",
    "        df_trainable_leak_valid.pred > 0.6\n",
    "    ].serial_number.drop_duplicates().apply(lambda v: dict_trainable_counts[v]).values\n",
    ")"
   ]
  },
  {
   "cell_type": "code",
   "execution_count": null,
   "metadata": {
    "ExecuteTime": {
     "end_time": "2021-04-27T17:36:09.686435Z",
     "start_time": "2021-04-27T17:36:09.636319Z"
    }
   },
   "outputs": [],
   "source": [
    "df_trainable_leak_valid[\n",
    "    df_trainable_leak_valid.pred > 0.6\n",
    "].serial_number.drop_duplicates().apply(lambda v: [v, dict_trainable_counts[v]])"
   ]
  },
  {
   "cell_type": "code",
   "execution_count": null,
   "metadata": {},
   "outputs": [],
   "source": [
    "import datetime\n",
    "sn_time = df_data_table_original.groupby(\n",
    "    'serial_number'\n",
    ").agg({'dt_collect_time':['min','max']}).reset_index()\n",
    "\n",
    "sn_time.columns=['serial_number','min_dt','max_dt']\n",
    "sn_time['gap_days'] = sn_time.apply(lambda x:(x.max_dt - x.min_dt).days,axis=1)\n",
    "sn_time.loc[sn_time.gap_days>30,'min_dt'] = sn_time.loc[sn_time.gap_days>30].max_dt - datetime.timedelta(days=31)\n",
    "sn_time = sn_time[['serial_number','min_dt','max_dt']]\n",
    "\n",
    "\n",
    "### filtering only 1 month data\n",
    "df_data_table_original = df_data_table_original.merge(sn_time)\n",
    "df_data_table_original = df_data_table_original[df_data_table_original.dt_collect_time > df_data_table_original.min_dt]"
   ]
  },
  {
   "cell_type": "code",
   "execution_count": null,
   "metadata": {},
   "outputs": [],
   "source": []
  },
  {
   "cell_type": "code",
   "execution_count": null,
   "metadata": {},
   "outputs": [],
   "source": []
  },
  {
   "cell_type": "code",
   "execution_count": null,
   "metadata": {},
   "outputs": [],
   "source": []
  },
  {
   "cell_type": "code",
   "execution_count": null,
   "metadata": {},
   "outputs": [],
   "source": []
  },
  {
   "cell_type": "code",
   "execution_count": null,
   "metadata": {},
   "outputs": [],
   "source": []
  },
  {
   "cell_type": "code",
   "execution_count": null,
   "metadata": {},
   "outputs": [],
   "source": []
  },
  {
   "cell_type": "code",
   "execution_count": null,
   "metadata": {},
   "outputs": [],
   "source": []
  }
 ],
 "metadata": {
  "kernelspec": {
   "display_name": "research",
   "language": "python",
   "name": "research"
  },
  "language_info": {
   "codemirror_mode": {
    "name": "ipython",
    "version": 3
   },
   "file_extension": ".py",
   "mimetype": "text/x-python",
   "name": "python",
   "nbconvert_exporter": "python",
   "pygments_lexer": "ipython3",
   "version": "3.6.13"
  },
  "toc": {
   "base_numbering": 1,
   "nav_menu": {},
   "number_sections": true,
   "sideBar": true,
   "skip_h1_title": false,
   "title_cell": "Table of Contents",
   "title_sidebar": "Contents",
   "toc_cell": false,
   "toc_position": {
    "height": "calc(100% - 180px)",
    "left": "10px",
    "top": "150px",
    "width": "354.391px"
   },
   "toc_section_display": true,
   "toc_window_display": true
  }
 },
 "nbformat": 4,
 "nbformat_minor": 4
}
